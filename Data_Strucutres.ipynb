{
 "cells": [
  {
   "cell_type": "markdown",
   "id": "021cf3ab-4655-4827-b2ba-4737ace4cae9",
   "metadata": {},
   "source": [
    "\n",
    "this is a markdon cell with markdown syntax\n",
    "to take the notes\n",
    "\n",
    "## Large font\n",
    "* bulletpoints\n",
    "\n",
    "  ## take a look at markdown syntaxes"
   ]
  },
  {
   "cell_type": "code",
   "execution_count": 220,
   "id": "f57fedfe-de2a-45e8-8838-85ada2a63f1d",
   "metadata": {},
   "outputs": [
    {
     "data": {
      "text/plain": [
       "3"
      ]
     },
     "execution_count": 220,
     "metadata": {},
     "output_type": "execute_result"
    }
   ],
   "source": [
    "1+2"
   ]
  },
  {
   "cell_type": "code",
   "execution_count": 4,
   "id": "a8809575-b138-4733-9137-16998a6dfdfa",
   "metadata": {},
   "outputs": [
    {
     "data": {
      "text/plain": [
       "float"
      ]
     },
     "execution_count": 4,
     "metadata": {},
     "output_type": "execute_result"
    }
   ],
   "source": [
    "type(1.0)\n"
   ]
  },
  {
   "cell_type": "code",
   "execution_count": 6,
   "id": "a8bf7fd5-cbb5-4383-a673-796913b9a667",
   "metadata": {},
   "outputs": [
    {
     "data": {
      "text/plain": [
       "str"
      ]
     },
     "execution_count": 6,
     "metadata": {},
     "output_type": "execute_result"
    }
   ],
   "source": [
    "type('1')\n"
   ]
  },
  {
   "cell_type": "code",
   "execution_count": 8,
   "id": "bf18b0ed-9e4d-418a-9657-b87fe3570c57",
   "metadata": {},
   "outputs": [
    {
     "data": {
      "text/plain": [
       "float"
      ]
     },
     "execution_count": 8,
     "metadata": {},
     "output_type": "execute_result"
    }
   ],
   "source": [
    "type(1/2)\n"
   ]
  },
  {
   "cell_type": "code",
   "execution_count": 10,
   "id": "ccdfb150-2bc0-456d-8a35-282d3cdcf124",
   "metadata": {},
   "outputs": [
    {
     "data": {
      "text/plain": [
       "16"
      ]
     },
     "execution_count": 10,
     "metadata": {},
     "output_type": "execute_result"
    }
   ],
   "source": [
    "2**4\n"
   ]
  },
  {
   "cell_type": "code",
   "execution_count": 12,
   "id": "f6d8f843-665f-4612-a0e2-543af03e54f4",
   "metadata": {},
   "outputs": [
    {
     "data": {
      "text/plain": [
       "2"
      ]
     },
     "execution_count": 12,
     "metadata": {},
     "output_type": "execute_result"
    }
   ],
   "source": [
    "5%3"
   ]
  },
  {
   "cell_type": "code",
   "execution_count": 40,
   "id": "a7b54f66-07ed-43a5-9e5b-cbaa997f89bf",
   "metadata": {},
   "outputs": [
    {
     "name": "stdout",
     "output_type": "stream",
     "text": [
      "this are 10 pants\n"
     ]
    }
   ],
   "source": [
    "print(\"this are {x} {y}\".format(y='pants', x=10))"
   ]
  },
  {
   "cell_type": "code",
   "execution_count": null,
   "id": "5b155104-7f5c-45bc-a651-1f209ba4e7cb",
   "metadata": {},
   "outputs": [],
   "source": []
  },
  {
   "cell_type": "code",
   "execution_count": null,
   "id": "a306079f-f8fc-4af1-a570-10cbaaee07d0",
   "metadata": {},
   "outputs": [],
   "source": [
    " \n",
    "                                        #####   Python Data Structures   #####\n",
    "\n",
    "##   List []           //also known as arrays \n",
    "##   Dictionaries {} // aslso known as hashtables, have key and vlaue pair\n",
    "##   Tuples ()     // immutable can't change values inside tuples\n",
    "##   Set {}      //  no key valye pair, set of unique elements, return single unique element 1 time, although it exist many time in a defined set\n",
    "##   Boolean   //  True / False  0 represents false, 1 represents ture\n"
   ]
  },
  {
   "cell_type": "code",
   "execution_count": 247,
   "id": "a8717887-1aa4-4318-b912-a6f28cefd361",
   "metadata": {},
   "outputs": [],
   "source": [
    "lisst=[1,2,3,4,'c','d','e','f']"
   ]
  },
  {
   "cell_type": "code",
   "execution_count": 249,
   "id": "c2272e24-98b7-40ad-9d27-60ad869a9235",
   "metadata": {},
   "outputs": [
    {
     "name": "stdout",
     "output_type": "stream",
     "text": [
      "[1, 2, 3, 4, 'c', 'd', 'e', 'f']\n"
     ]
    }
   ],
   "source": [
    "print(lisst)"
   ]
  },
  {
   "cell_type": "code",
   "execution_count": 251,
   "id": "ebe3c313-7cb3-416a-b733-c7c8e1c3f223",
   "metadata": {},
   "outputs": [
    {
     "name": "stdout",
     "output_type": "stream",
     "text": [
      "[2, 3, 4, 'c', 'd', 'e', 'f']\n"
     ]
    }
   ],
   "source": [
    "lisst.pop(0)\n",
    "print(lisst)"
   ]
  },
  {
   "cell_type": "code",
   "execution_count": 253,
   "id": "3f7b04f3-8449-4731-9517-2b255bbe5183",
   "metadata": {},
   "outputs": [
    {
     "data": {
      "text/plain": [
       "True"
      ]
     },
     "execution_count": 253,
     "metadata": {},
     "output_type": "execute_result"
    }
   ],
   "source": [
    "2 in lisst"
   ]
  },
  {
   "cell_type": "code",
   "execution_count": 88,
   "id": "56a95606-f90d-47d8-85c7-f5791043d983",
   "metadata": {},
   "outputs": [],
   "source": [
    "lisst.append('okay')"
   ]
  },
  {
   "cell_type": "code",
   "execution_count": 90,
   "id": "2cfaa791-607d-4848-8aa3-62900ff6256b",
   "metadata": {},
   "outputs": [],
   "source": [
    "lisst[-3]=\"there is nothing\""
   ]
  },
  {
   "cell_type": "code",
   "execution_count": 92,
   "id": "e62bd11e-4193-480e-a4f8-90df15f47426",
   "metadata": {},
   "outputs": [
    {
     "name": "stdout",
     "output_type": "stream",
     "text": [
      "[1, 2, 3, 4, 'c', 'there is nothing', 'e', 'there is nothing', 3, 'okay']\n"
     ]
    }
   ],
   "source": [
    "print(lisst)"
   ]
  },
  {
   "cell_type": "code",
   "execution_count": 118,
   "id": "603c50f8-1d69-4f61-9b95-6d523400b70a",
   "metadata": {},
   "outputs": [],
   "source": [
    "mylist=[1,2,['a','b', [\"there\", \"here\"]]]"
   ]
  },
  {
   "cell_type": "code",
   "execution_count": 122,
   "id": "d3ded855-d187-46d7-8eee-9f18ecabfd8b",
   "metadata": {},
   "outputs": [
    {
     "name": "stdout",
     "output_type": "stream",
     "text": [
      "[1, 2, ['a', 'b', ['there', 'here']]]\n"
     ]
    }
   ],
   "source": [
    "print(mylist)"
   ]
  },
  {
   "cell_type": "code",
   "execution_count": 124,
   "id": "f9b2c5ed-4900-45f3-8e6f-0beecda0e410",
   "metadata": {},
   "outputs": [
    {
     "name": "stdout",
     "output_type": "stream",
     "text": [
      "here\n"
     ]
    }
   ],
   "source": [
    "print(mylist[-1][-1][-1])"
   ]
  },
  {
   "cell_type": "code",
   "execution_count": 166,
   "id": "abb9dff7-5726-46c3-95c8-bebb215507b1",
   "metadata": {},
   "outputs": [],
   "source": [
    "# this is dictoneries having key and value pair sperated by colon :\n",
    "# ICT is the key & 1000 is the vlaue\n",
    "dic={\"ICT\" : 1000, 'SEC book': \"500\"} "
   ]
  },
  {
   "cell_type": "code",
   "execution_count": 168,
   "id": "2d251ce3-9538-4778-8b8f-1d64990f62a6",
   "metadata": {},
   "outputs": [
    {
     "name": "stdout",
     "output_type": "stream",
     "text": [
      "{'ICT': 1000, 'SEC book': '500'}\n"
     ]
    }
   ],
   "source": [
    "print(dic)"
   ]
  },
  {
   "cell_type": "code",
   "execution_count": 172,
   "id": "8aeb6a08-88b7-42e7-9590-274f38b69bbd",
   "metadata": {},
   "outputs": [
    {
     "data": {
      "text/plain": [
       "1000"
      ]
     },
     "execution_count": 172,
     "metadata": {},
     "output_type": "execute_result"
    }
   ],
   "source": [
    " dic['ICT']"
   ]
  },
  {
   "cell_type": "code",
   "execution_count": 174,
   "id": "5fe47cbd-74ac-469c-abdc-71d97341761c",
   "metadata": {},
   "outputs": [
    {
     "name": "stdout",
     "output_type": "stream",
     "text": [
      "{'ICT': 1000, 'SEC book': '500'}\n"
     ]
    }
   ],
   "source": [
    "print(dic)"
   ]
  },
  {
   "cell_type": "code",
   "execution_count": 236,
   "id": "b2c01786-f665-4ca4-ae9e-aee0cb35ab20",
   "metadata": {},
   "outputs": [
    {
     "data": {
      "text/plain": [
       "dict_items([('ICT', 1000), ('SEC book', '500')])"
      ]
     },
     "execution_count": 236,
     "metadata": {},
     "output_type": "execute_result"
    }
   ],
   "source": [
    "dic.items()"
   ]
  },
  {
   "cell_type": "code",
   "execution_count": 238,
   "id": "73c8745c-72b9-46c9-811e-3e35eea18fb6",
   "metadata": {},
   "outputs": [
    {
     "data": {
      "text/plain": [
       "dict_keys(['ICT', 'SEC book'])"
      ]
     },
     "execution_count": 238,
     "metadata": {},
     "output_type": "execute_result"
    }
   ],
   "source": [
    "dic.keys()"
   ]
  },
  {
   "cell_type": "code",
   "execution_count": 184,
   "id": "8554f851-8aea-46eb-99f4-70b608bd47fa",
   "metadata": {},
   "outputs": [],
   "source": [
    " # tuples are unchangeable like list\n",
    "t=(1,2,2,3,4,'bla bla')"
   ]
  },
  {
   "cell_type": "code",
   "execution_count": 186,
   "id": "0f03232a-150e-48b1-8d30-8a2c7afd8994",
   "metadata": {},
   "outputs": [
    {
     "name": "stdout",
     "output_type": "stream",
     "text": [
      "(1, 2, 2, 3, 4, 'bla bla')\n"
     ]
    }
   ],
   "source": [
    "print(t)"
   ]
  },
  {
   "cell_type": "code",
   "execution_count": 188,
   "id": "894acd78-a0c4-4ad8-9010-b99371dbc811",
   "metadata": {},
   "outputs": [
    {
     "data": {
      "text/plain": [
       "2"
      ]
     },
     "execution_count": 188,
     "metadata": {},
     "output_type": "execute_result"
    }
   ],
   "source": [
    "t[2]"
   ]
  },
  {
   "cell_type": "code",
   "execution_count": 190,
   "id": "5b9b94ca-b400-4f4f-a2fb-f7329d3df55c",
   "metadata": {},
   "outputs": [
    {
     "data": {
      "text/plain": [
       "2"
      ]
     },
     "execution_count": 190,
     "metadata": {},
     "output_type": "execute_result"
    }
   ],
   "source": [
    "t[1]"
   ]
  },
  {
   "cell_type": "code",
   "execution_count": 216,
   "id": "149e5d85-82e1-4b59-bf61-bc48ae64bff4",
   "metadata": {},
   "outputs": [],
   "source": [
    "set1={8,3,9,1,0,2,8,2,5,15,2,7,3,3,3,3,3,6,1,4,3}"
   ]
  },
  {
   "cell_type": "code",
   "execution_count": 218,
   "id": "492c0b9e-9c7e-4a20-94cc-c3e141dbc9dd",
   "metadata": {},
   "outputs": [
    {
     "name": "stdout",
     "output_type": "stream",
     "text": [
      "{0, 1, 2, 3, 4, 5, 6, 7, 8, 9, 15}\n"
     ]
    }
   ],
   "source": [
    "print(set1)"
   ]
  },
  {
   "cell_type": "markdown",
   "id": "67ec0003-2101-416f-8f03-5fb34753d6e4",
   "metadata": {},
   "source": [
    "python data structures\n",
    "## ----------------- Done !! ---------------"
   ]
  }
 ],
 "metadata": {
  "kernelspec": {
   "display_name": "Python 3 (ipykernel)",
   "language": "python",
   "name": "python3"
  },
  "language_info": {
   "codemirror_mode": {
    "name": "ipython",
    "version": 3
   },
   "file_extension": ".py",
   "mimetype": "text/x-python",
   "name": "python",
   "nbconvert_exporter": "python",
   "pygments_lexer": "ipython3",
   "version": "3.12.7"
  }
 },
 "nbformat": 4,
 "nbformat_minor": 5
}
